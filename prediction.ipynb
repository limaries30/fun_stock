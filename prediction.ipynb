{
 "cells": [
  {
   "cell_type": "code",
   "execution_count": 73,
   "metadata": {},
   "outputs": [],
   "source": [
    "import pandas as pd\n",
    "import torch\n",
    "import torch.nn as nn\n",
    "from sklearn.preprocessing import StandardScaler\n",
    "import numpy as np\n",
    "from torch.utils.data import Dataset,DataLoader\n",
    "import torch\n",
    "import torch.nn as nn\n",
    "import torch.optim as optim\n",
    "import matplotlib.pyplot as plt\n",
    "import pathlib\n",
    "\n",
    "\n",
    "\n",
    "file_path = './data'\n",
    "p = pathlib.Path(file_path)\n",
    "\n",
    "df=pd.read_csv('./data/051910.csv',index_col=0).reset_index(drop=True)\n",
    "# df=pd.read_csv('./data/215600.csv',index_col=0).reset_index(drop=True)\n",
    "code_name=pd.read_csv('./data/code_name.csv')\n",
    "train=df[['open','high','low','volume']]\n",
    "target=df[['close']]\n",
    "dates=df.date"
   ]
  },
  {
   "cell_type": "code",
   "execution_count": 74,
   "metadata": {},
   "outputs": [],
   "source": [
    "train_scaler=StandardScaler()\n",
    "train=train_scaler.fit_transform(train) #returns numpy array\n",
    "close_scaler=StandardScaler()\n",
    "target=close_scaler.fit_transform(target) #returns numpy array"
   ]
  },
  {
   "cell_type": "code",
   "execution_count": 2,
   "metadata": {},
   "outputs": [
    {
     "data": {
      "text/html": [
       "<div>\n",
       "<style scoped>\n",
       "    .dataframe tbody tr th:only-of-type {\n",
       "        vertical-align: middle;\n",
       "    }\n",
       "\n",
       "    .dataframe tbody tr th {\n",
       "        vertical-align: top;\n",
       "    }\n",
       "\n",
       "    .dataframe thead th {\n",
       "        text-align: right;\n",
       "    }\n",
       "</style>\n",
       "<table border=\"1\" class=\"dataframe\">\n",
       "  <thead>\n",
       "    <tr style=\"text-align: right;\">\n",
       "      <th></th>\n",
       "      <th>close</th>\n",
       "    </tr>\n",
       "  </thead>\n",
       "  <tbody>\n",
       "    <tr>\n",
       "      <th>count</th>\n",
       "      <td>4618.000000</td>\n",
       "    </tr>\n",
       "    <tr>\n",
       "      <th>mean</th>\n",
       "      <td>1.001048</td>\n",
       "    </tr>\n",
       "    <tr>\n",
       "      <th>std</th>\n",
       "      <td>0.026844</td>\n",
       "    </tr>\n",
       "    <tr>\n",
       "      <th>min</th>\n",
       "      <td>0.850856</td>\n",
       "    </tr>\n",
       "    <tr>\n",
       "      <th>25%</th>\n",
       "      <td>0.987132</td>\n",
       "    </tr>\n",
       "    <tr>\n",
       "      <th>50%</th>\n",
       "      <td>1.000000</td>\n",
       "    </tr>\n",
       "    <tr>\n",
       "      <th>75%</th>\n",
       "      <td>1.013797</td>\n",
       "    </tr>\n",
       "    <tr>\n",
       "      <th>max</th>\n",
       "      <td>1.416667</td>\n",
       "    </tr>\n",
       "  </tbody>\n",
       "</table>\n",
       "</div>"
      ],
      "text/plain": [
       "             close\n",
       "count  4618.000000\n",
       "mean      1.001048\n",
       "std       0.026844\n",
       "min       0.850856\n",
       "25%       0.987132\n",
       "50%       1.000000\n",
       "75%       1.013797\n",
       "max       1.416667"
      ]
     },
     "execution_count": 2,
     "metadata": {},
     "output_type": "execute_result"
    }
   ],
   "source": [
    "change_ratio=target[1:].reset_index(drop=True)/target[:-1].reset_index(drop=True)\n",
    "change_ratio.describe()"
   ]
  },
  {
   "cell_type": "code",
   "execution_count": 25,
   "metadata": {},
   "outputs": [],
   "source": [
    "class custom_dataset(Dataset):\n",
    "    '''batch sample?'''\n",
    "    \n",
    "    def __init__(self,train,target,window_size=7):\n",
    "        '''train : numpy , target : numpy'''\n",
    "        self.window_size=window_size\n",
    "        self.train=train\n",
    "        self.target=target\n",
    "        self.len=train.shape[0]\n",
    "        \n",
    "#         self.scaler=StandardScaler()\n",
    "#         self.close_scaler=StandardScaler()\n",
    "        \n",
    "#         self.scaled_train=self.scaler.fit_transform(self.train)\n",
    "#         self.sclaed_target=self.close_scaler.fit_transform(self.target)\n",
    "        \n",
    "    def __getitem__(self,index):\n",
    "        \n",
    "        '''scaler 문제일 것 같다?? 처음꺼는 scaling이 잘 안되니까'''\n",
    "        \n",
    "#         normalized_train=self.scaler.fit_transform(self.train[index:index+self.window_size])\n",
    "        \n",
    "#         normalized_c=self.close_scaler.fit_transform(self.target[index:index+self.window_size])\n",
    "#         c_input=np.append(normalized_c[:-1],0).reshape(-1,1)\n",
    "\n",
    "        normalized_train=self.train[index:index+self.window_size]\n",
    "        \n",
    "        normalized_c=self.target[index:index+self.window_size]\n",
    "        c_input=np.append(normalized_c[:-1],0).reshape(-1,1)\n",
    "\n",
    "        train_with_zeropadding=np.concatenate((normalized_train,c_input),axis=1)\n",
    "        \n",
    "        return train_with_zeropadding,normalized_c[-1]\n",
    "    \n",
    "    \n",
    "    \n",
    "    def __len__(self):\n",
    "        return self.len-self.window_size"
   ]
  },
  {
   "cell_type": "code",
   "execution_count": 54,
   "metadata": {},
   "outputs": [],
   "source": [
    "def split_data(data):\n",
    "    '''train,val,test 나누기'''\n",
    "    prop=len(data)//5\n",
    "    val=data[:prop]\n",
    "    test=data[prop+1:2*prop]\n",
    "    train=data[2*prop:]\n",
    "    \n",
    "    return train,val,test\n",
    "\n",
    "\n",
    "class plot_time:\n",
    "    '''predict : np.array, y : np.array'''\n",
    "    \n",
    "    def __init__(self,predict,y,dates):\n",
    "        \n",
    "        assert predict.shape[0]==y.shape[0]\n",
    "        self.data_len=predict.shape[0]\n",
    "        self.prediction=predict\n",
    "        self.prediction=pd.DataFrame(prediction,columns={'prediction'})\n",
    "        self.y=pd.DataFrame(y,columns={'close'})\n",
    "        \n",
    "        self.comparing=pd.concat([self.prediction,self.y.reset_index(drop=True)],axis=1)\n",
    "        self.comparing.index = dates  \n",
    "        \n",
    "    def plot_(self):\n",
    "        \n",
    "        self.comparing[['prediction','close']].plot()\n",
    "    \n",
    "    \n",
    "\n",
    "# def make_seq(data,window_size):\n",
    "#     seq_data=[]\n",
    "#     for i in range(data.shape[0]-window_size):\n",
    "#         L=data[i:i+window_size]\n",
    "#         seq_data.append(L)\n",
    "#     return seq_data\n",
    "\n",
    "# def make_nomarlized_seq(data,window_size):\n",
    "#     '''input : pandas df, window size만큼만 normalize'''\n",
    "#     seq_data=[]\n",
    "#     scaler= StandardScaler()\n",
    "#     for i in range(data.shape[0]-window_size):\n",
    "#         L=data[i:i+window_size]\n",
    "#         seq_data.append(scaler.fit_transform(np.array(L)))\n",
    "        \n",
    "#     return np.array(seq_data),scaler\n",
    "\n",
    "# def preprocessing(data):\n",
    "#     '''정규화 및 numpy array return : 이제 안쓸듯'''\n",
    "#     scaler= StandardScaler()\n",
    "#     data=scaler.fit_transform(data)\n",
    "#     data=np.array(data)\n",
    "    \n",
    "#     return data\n",
    "\n",
    "\n",
    "# train_data_normalized,scaler_train = preprocessing(train.iloc[:-1])\n",
    "# target_data_normalized ,scaler_test= preprocessing(target.iloc[1:])\n",
    "\n",
    "# train_seq=make_seq(train_data_normalized,window_size=5)\n",
    "# target_seq=make_seq(target_data_normalized,window_size=5)\n",
    "\n",
    "# '''making normalized window'''\n",
    "# train_seq,train_scaler=make_nomarlized_seq(train.iloc[:-1],window_size=5)\n",
    "# test_seq,test_scaler=make_nomarlized_seq(target.iloc[1:],window_size=5)"
   ]
  },
  {
   "cell_type": "code",
   "execution_count": 75,
   "metadata": {},
   "outputs": [],
   "source": [
    "x_train,x_val,x_test=split_data(train)\n",
    "y_train,y_val,y_test=split_data(target)"
   ]
  },
  {
   "cell_type": "code",
   "execution_count": 76,
   "metadata": {
    "scrolled": true
   },
   "outputs": [],
   "source": [
    "train_dataset=custom_dataset(train=x_train,target=y_train)\n",
    "val_dataset=custom_dataset(train=x_val,target=y_val)\n",
    "\n",
    "train_loader=DataLoader(train_dataset,batch_size=8,shuffle=True)\n",
    "test_loadr=DataLoader(train_dataset,batch_size=1)\n",
    "val_laoder=DataLoader(val_dataset,batch_size=1)"
   ]
  },
  {
   "cell_type": "markdown",
   "metadata": {},
   "source": [
    "### LSTM을 이용한 예측"
   ]
  },
  {
   "cell_type": "code",
   "execution_count": 32,
   "metadata": {},
   "outputs": [],
   "source": [
    "class stock_net(nn.Module):\n",
    "    def __init__(self, embedding_dim, hidden_dim):\n",
    "        \n",
    "        super(stock_net, self).__init__()\n",
    "        self.lstm = nn.LSTM(embedding_dim, hidden_dim)\n",
    "        self.h_o=nn.Linear(hidden_dim,1)\n",
    "        self.relu = nn.ReLU()\n",
    "        \n",
    "    def forward(self,x):\n",
    "        \n",
    "        x=self.lstm(x)\n",
    "\n",
    "        x=self.relu(self.h_o(x[0][-1,:,:]))\n",
    "\n",
    "        \n",
    "        return x"
   ]
  },
  {
   "cell_type": "code",
   "execution_count": 33,
   "metadata": {},
   "outputs": [],
   "source": [
    "emb_dim=5# feature size"
   ]
  },
  {
   "cell_type": "code",
   "execution_count": 34,
   "metadata": {},
   "outputs": [],
   "source": [
    "haha_net=stock_net(emb_dim,16)\n",
    "criterion = nn.MSELoss()\n",
    "optimizer = optim.SGD(haha_net.parameters(), lr=0.0001)"
   ]
  },
  {
   "cell_type": "code",
   "execution_count": 40,
   "metadata": {},
   "outputs": [
    {
     "data": {
      "text/plain": [
       "3"
      ]
     },
     "execution_count": 40,
     "metadata": {},
     "output_type": "execute_result"
    }
   ],
   "source": [
    "a=[1,2]\n",
    "sum(a)"
   ]
  },
  {
   "cell_type": "code",
   "execution_count": 45,
   "metadata": {
    "scrolled": true
   },
   "outputs": [
    {
     "name": "stdout",
     "output_type": "stream",
     "text": [
      "epoch/step 1 99 : 0.4267062544822693\n",
      "epoch/step 1 199 : 0.35456568002700806\n",
      "epoch/step 1 299 : 0.05023026466369629\n",
      "Epoch: 0 val_loss: 3.096132 \n",
      "epoch/step 2 99 : 0.2803364396095276\n",
      "epoch/step 2 199 : 0.3193659782409668\n",
      "epoch/step 2 299 : 0.09019368886947632\n",
      "Epoch: 1 val_loss: 3.218867 \n",
      "epoch/step 3 99 : 0.042378753423690796\n",
      "epoch/step 3 199 : 0.05865110456943512\n",
      "epoch/step 3 299 : 0.06388396769762039\n",
      "Epoch: 2 val_loss: 3.607262 \n",
      "epoch/step 4 99 : 0.42313945293426514\n",
      "epoch/step 4 199 : 0.1313188374042511\n",
      "epoch/step 4 299 : 0.06409124284982681\n",
      "Epoch: 3 val_loss: 3.610295 \n",
      "epoch/step 5 99 : 0.17386864125728607\n",
      "epoch/step 5 199 : 0.0956224724650383\n",
      "epoch/step 5 299 : 0.07086850702762604\n",
      "Epoch: 4 val_loss: 2.991184 \n",
      "epoch/step 6 99 : 0.0696774497628212\n",
      "epoch/step 6 199 : 0.09072433412075043\n",
      "epoch/step 6 299 : 0.048323988914489746\n",
      "Epoch: 5 val_loss: 3.700757 \n",
      "epoch/step 7 99 : 0.09834489971399307\n",
      "epoch/step 7 199 : 0.13656075298786163\n",
      "epoch/step 7 299 : 0.1812225729227066\n",
      "Epoch: 6 val_loss: 3.785012 \n",
      "epoch/step 8 99 : 0.14867109060287476\n",
      "epoch/step 8 199 : 0.08166177570819855\n",
      "epoch/step 8 299 : 0.24630030989646912\n",
      "Epoch: 7 val_loss: 3.288558 \n",
      "epoch/step 9 99 : 0.26037436723709106\n",
      "epoch/step 9 199 : 0.1042255237698555\n",
      "epoch/step 9 299 : 0.09724793583154678\n",
      "Epoch: 8 val_loss: 3.721774 \n",
      "epoch/step 10 99 : 0.03949970006942749\n",
      "epoch/step 10 199 : 0.14774668216705322\n",
      "epoch/step 10 299 : 0.07529450207948685\n",
      "Epoch: 9 val_loss: 4.114062 \n",
      "epoch/step 11 99 : 0.0653810203075409\n",
      "epoch/step 11 199 : 0.166034534573555\n",
      "epoch/step 11 299 : 0.18154029548168182\n",
      "Epoch: 10 val_loss: 3.249780 \n",
      "epoch/step 12 99 : 0.061371684074401855\n",
      "epoch/step 12 199 : 0.22929222881793976\n",
      "epoch/step 12 299 : 0.20892512798309326\n",
      "Epoch: 11 val_loss: 3.436243 \n",
      "epoch/step 13 99 : 0.21105195581912994\n",
      "epoch/step 13 199 : 0.024379834532737732\n",
      "epoch/step 13 299 : 0.24564547836780548\n",
      "Epoch: 12 val_loss: 3.851386 \n",
      "epoch/step 14 99 : 0.0924837589263916\n",
      "epoch/step 14 199 : 0.14063377678394318\n",
      "epoch/step 14 299 : 0.33747991919517517\n",
      "Epoch: 13 val_loss: 3.253777 \n",
      "epoch/step 15 99 : 0.04350541532039642\n",
      "epoch/step 15 199 : 0.05504222959280014\n",
      "epoch/step 15 299 : 0.23335981369018555\n",
      "Epoch: 14 val_loss: 3.392249 \n",
      "epoch/step 16 99 : 0.08640465885400772\n",
      "epoch/step 16 199 : 0.07650208473205566\n",
      "epoch/step 16 299 : 0.04655860736966133\n",
      "Epoch: 15 val_loss: 4.178819 \n",
      "epoch/step 17 99 : 0.10106474161148071\n",
      "epoch/step 17 199 : 0.07349575310945511\n",
      "epoch/step 17 299 : 0.07232009619474411\n",
      "Epoch: 16 val_loss: 3.276241 \n",
      "epoch/step 18 99 : 0.1420530080795288\n",
      "epoch/step 18 199 : 0.11318271607160568\n",
      "epoch/step 18 299 : 0.1483301967382431\n",
      "Epoch: 17 val_loss: 3.748032 \n",
      "epoch/step 19 99 : 0.16600333154201508\n",
      "epoch/step 19 199 : 0.2573353052139282\n",
      "epoch/step 19 299 : 0.15224626660346985\n",
      "Epoch: 18 val_loss: 3.915929 \n",
      "epoch/step 20 99 : 0.11532584577798843\n",
      "epoch/step 20 199 : 0.11135683208703995\n",
      "epoch/step 20 299 : 0.032824087888002396\n",
      "Epoch: 19 val_loss: 3.816720 \n",
      "epoch/step 21 99 : 0.0857265368103981\n",
      "epoch/step 21 199 : 0.03395569324493408\n",
      "epoch/step 21 299 : 0.10118094086647034\n",
      "Epoch: 20 val_loss: 3.708061 \n",
      "epoch/step 22 99 : 0.16912183165550232\n",
      "epoch/step 22 199 : 0.218119278550148\n",
      "epoch/step 22 299 : 0.08273128420114517\n",
      "Epoch: 21 val_loss: 3.705217 \n",
      "epoch/step 23 99 : 0.18835659325122833\n",
      "epoch/step 23 199 : 0.04700344428420067\n",
      "epoch/step 23 299 : 0.14655408263206482\n",
      "Epoch: 22 val_loss: 4.240329 \n",
      "epoch/step 24 99 : 0.040236469358205795\n",
      "epoch/step 24 199 : 0.1106937825679779\n",
      "epoch/step 24 299 : 0.18178436160087585\n",
      "Epoch: 23 val_loss: 4.097788 \n",
      "epoch/step 25 99 : 0.06758575886487961\n",
      "epoch/step 25 199 : 0.07716979086399078\n",
      "epoch/step 25 299 : 0.06584212929010391\n",
      "Epoch: 24 val_loss: 3.444452 \n",
      "epoch/step 26 99 : 0.14645245671272278\n",
      "epoch/step 26 199 : 0.04434872791171074\n",
      "epoch/step 26 299 : 0.23238421976566315\n",
      "Epoch: 25 val_loss: 3.705910 \n",
      "epoch/step 27 99 : 0.05825407803058624\n",
      "epoch/step 27 199 : 0.12952572107315063\n",
      "epoch/step 27 299 : 0.09339557588100433\n",
      "Epoch: 26 val_loss: 3.189208 \n",
      "epoch/step 28 99 : 0.14132137596607208\n",
      "epoch/step 28 199 : 0.13992103934288025\n",
      "epoch/step 28 299 : 0.09801463037729263\n",
      "Epoch: 27 val_loss: 3.968216 \n",
      "epoch/step 29 99 : 0.2737271785736084\n",
      "epoch/step 29 199 : 0.06596538424491882\n",
      "epoch/step 29 299 : 0.038752228021621704\n",
      "Epoch: 28 val_loss: 4.200841 \n",
      "epoch/step 30 99 : 0.13791264593601227\n",
      "epoch/step 30 199 : 0.027169695124030113\n",
      "epoch/step 30 299 : 0.4697915017604828\n",
      "Epoch: 29 val_loss: 3.032510 \n",
      "epoch/step 31 99 : 0.17342045903205872\n",
      "epoch/step 31 199 : 0.035360340029001236\n",
      "epoch/step 31 299 : 0.0492602102458477\n",
      "Epoch: 30 val_loss: 3.863064 \n",
      "epoch/step 32 99 : 0.03754971921443939\n",
      "epoch/step 32 199 : 0.10700665414333344\n",
      "epoch/step 32 299 : 0.06904446333646774\n",
      "Epoch: 31 val_loss: 3.738430 \n",
      "epoch/step 33 99 : 0.12619049847126007\n",
      "epoch/step 33 199 : 0.05278091877698898\n",
      "epoch/step 33 299 : 0.17861466109752655\n",
      "Epoch: 32 val_loss: 3.496150 \n",
      "epoch/step 34 99 : 0.14845621585845947\n",
      "epoch/step 34 199 : 0.032236382365226746\n",
      "epoch/step 34 299 : 0.09534334391355515\n",
      "Epoch: 33 val_loss: 3.847083 \n",
      "epoch/step 35 99 : 0.04411737620830536\n",
      "epoch/step 35 199 : 0.038052789866924286\n",
      "epoch/step 35 299 : 0.12967941164970398\n",
      "Epoch: 34 val_loss: 4.417750 \n",
      "epoch/step 36 99 : 0.036460164934396744\n",
      "epoch/step 36 199 : 0.055684298276901245\n",
      "epoch/step 36 299 : 0.11544463783502579\n",
      "Epoch: 35 val_loss: 3.898980 \n",
      "epoch/step 37 99 : 0.029766347259283066\n",
      "epoch/step 37 199 : 0.025089722126722336\n",
      "epoch/step 37 299 : 0.2048874944448471\n",
      "Epoch: 36 val_loss: 3.358012 \n",
      "epoch/step 38 99 : 0.06355670839548111\n",
      "epoch/step 38 199 : 0.05014459416270256\n",
      "epoch/step 38 299 : 0.015468684956431389\n",
      "Epoch: 37 val_loss: 3.930779 \n",
      "epoch/step 39 99 : 0.017839526757597923\n",
      "epoch/step 39 199 : 0.046446703374385834\n",
      "epoch/step 39 299 : 0.13332806527614594\n",
      "Epoch: 38 val_loss: 3.383564 \n",
      "epoch/step 40 99 : 0.13251528143882751\n",
      "epoch/step 40 199 : 0.1867092400789261\n",
      "epoch/step 40 299 : 0.16833744943141937\n",
      "Epoch: 39 val_loss: 4.323585 \n",
      "epoch/step 41 99 : 0.14096565544605255\n",
      "epoch/step 41 199 : 0.1344110667705536\n",
      "epoch/step 41 299 : 0.12763166427612305\n",
      "Epoch: 40 val_loss: 4.333902 \n",
      "epoch/step 42 99 : 0.057764388620853424\n",
      "epoch/step 42 199 : 0.041911013424396515\n",
      "epoch/step 42 299 : 0.055680546909570694\n",
      "Epoch: 41 val_loss: 4.011129 \n",
      "epoch/step 43 99 : 0.04052789509296417\n",
      "epoch/step 43 199 : 0.03942928463220596\n",
      "epoch/step 43 299 : 0.04433593153953552\n",
      "Epoch: 42 val_loss: 3.025655 \n",
      "epoch/step 44 99 : 0.03419966623187065\n",
      "epoch/step 44 199 : 0.18644669651985168\n",
      "epoch/step 44 299 : 0.12777961790561676\n",
      "Epoch: 43 val_loss: 3.392338 \n",
      "epoch/step 45 99 : 0.02260216884315014\n",
      "epoch/step 45 199 : 0.03591194376349449\n",
      "epoch/step 45 299 : 0.14922095835208893\n",
      "Epoch: 44 val_loss: 3.980111 \n",
      "epoch/step 46 99 : 0.041334833949804306\n",
      "epoch/step 46 199 : 0.09261386841535568\n",
      "epoch/step 46 299 : 0.02743416279554367\n",
      "Epoch: 45 val_loss: 4.080241 \n",
      "epoch/step 47 99 : 0.18887893855571747\n",
      "epoch/step 47 199 : 0.04174334928393364\n",
      "epoch/step 47 299 : 0.1285591721534729\n",
      "Epoch: 46 val_loss: 4.432298 \n",
      "epoch/step 48 99 : 0.06328625977039337\n",
      "epoch/step 48 199 : 0.1904286891222\n",
      "epoch/step 48 299 : 0.1851310133934021\n",
      "Epoch: 47 val_loss: 3.750441 \n",
      "epoch/step 49 99 : 0.03914907947182655\n",
      "epoch/step 49 199 : 0.057354845106601715\n",
      "epoch/step 49 299 : 0.02602350525557995\n",
      "Epoch: 48 val_loss: 4.252878 \n",
      "epoch/step 50 99 : 0.11540873348712921\n",
      "epoch/step 50 199 : 0.1383822113275528\n",
      "epoch/step 50 299 : 0.037704844027757645\n",
      "Epoch: 49 val_loss: 3.317408 \n"
     ]
    }
   ],
   "source": [
    "# Loss=[]\n",
    "# epoch=1\n",
    "# for y in range(epoch):\n",
    "#     for i in range(x_train.shape[0]):\n",
    "\n",
    "#         optimizer.zero_grad()\n",
    "#         output=haha_net(torch.FloatTensor(x_train[i]).view(5,-1,4))\n",
    "#         loss = criterion(output, torch.FloatTensor(y_train[i]))\n",
    "#         loss.backward()\n",
    "#         optimizer.step()  \n",
    "#         if i%100==0:\n",
    "#             Loss.append(loss.item())\n",
    "#             print('epoch/step',y,i,':',loss.item())\n",
    "\n",
    "Loss=[]\n",
    "epochs=50\n",
    "for i in range(epochs):\n",
    "    for idx,data in enumerate(train_loader):\n",
    "        \n",
    "        optimizer.zero_grad()\n",
    "      \n",
    "        train=data[0].permute(1,0,2)\n",
    "\n",
    "        y=data[1]\n",
    "    \n",
    "        output=haha_net(train.float())\n",
    "\n",
    "        loss = criterion(output,y.float())\n",
    "        loss.backward()\n",
    "        optimizer.step()  \n",
    "        if (idx+1)%100==0:\n",
    "            Loss.append(loss.item())\n",
    "            print('epoch/step',i+1,idx,':',loss.item())\n",
    "            \n",
    "            \n",
    "    \n",
    "    \n",
    "    '''val loss 하나씩 읽어야되나????'''\n",
    "    val_loss=[]    \n",
    "    for idx,data in enumerate(val_laoder):\n",
    "        val=data[0].permute(1,0,2)\n",
    "        y=data[1]\n",
    "        output=haha_net(train.float())\n",
    "        loss=criterion(output,y.float())        \n",
    "        val_loss.append(loss.item())\n",
    "\n",
    "    print(\"Epoch: %d val_loss: %.3f \" %(i+1,sum(val_loss)/len(val_loss)))\n",
    "        "
   ]
  },
  {
   "cell_type": "code",
   "execution_count": 46,
   "metadata": {},
   "outputs": [],
   "source": [
    "Prediction=[]\n",
    "for idx,data in enumerate(test_loadr):\n",
    "    train=data[0].permute(1,0,2)\n",
    "    y=data[1]\n",
    "    output=haha_net(train.float())\n",
    "    Prediction.append(output.item())"
   ]
  },
  {
   "cell_type": "code",
   "execution_count": 58,
   "metadata": {
    "scrolled": false
   },
   "outputs": [
    {
     "data": {
      "text/plain": [
       "Text(0.5, 1.0, 'Train Data')"
      ]
     },
     "execution_count": 58,
     "metadata": {},
     "output_type": "execute_result"
    },
    {
     "data": {
      "image/png": "[encoded data removed]",
      "text/plain": [
       "<Figure size 432x288 with 1 Axes>"
      ]
     },
     "metadata": {
      "needs_background": "light"
     },
     "output_type": "display_data"
    }
   ],
   "source": [
    "prediction=close_scaler.inverse_transform(Prediction)\n",
    "y_train=close_scaler.inverse_transform(y_train)\n",
    "to_plot=plot_time(prediction,y_train[7:],dates[7:7+prediction.shape[0]])\n",
    "to_plot.plot_()\n",
    "plt.title('Train Data')"
   ]
  },
  {
   "cell_type": "code",
   "execution_count": 77,
   "metadata": {
    "scrolled": true
   },
   "outputs": [],
   "source": [
    "Prediction=[]\n",
    "for idx,data in enumerate(val_laoder):\n",
    "    train=data[0].permute(1,0,2)\n",
    "    y=data[1]\n",
    "    output=haha_net(train.float())\n",
    "    Prediction.append(output.item())"
   ]
  },
  {
   "cell_type": "code",
   "execution_count": 78,
   "metadata": {},
   "outputs": [
    {
     "data": {
      "text/plain": [
       "Text(0.5, 1.0, 'Val Data')"
      ]
     },
     "execution_count": 78,
     "metadata": {},
     "output_type": "execute_result"
    },
    {
     "data": {
      "image/png": "[encoded data removed]",
      "text/plain": [
       "<Figure size 432x288 with 1 Axes>"
      ]
     },
     "metadata": {
      "needs_background": "light"
     },
     "output_type": "display_data"
    }
   ],
   "source": [
    "prediction=close_scaler.inverse_transform(Prediction)\n",
    "y_bakc_norm=close_scaler.inverse_transform(y_val)\n",
    "to_plot=plot_time(prediction,y_bakc_norm[7:],dates[y_train.shape[0]+7:y_train.shape[0]+7+prediction.shape[0]])\n",
    "to_plot.plot_()\n",
    "plt.title('Val Data')"
   ]
  },
  {
   "cell_type": "code",
   "execution_count": 79,
   "metadata": {},
   "outputs": [
    {
     "data": {
      "text/plain": [
       "[<matplotlib.lines.Line2D at 0x1f4f2ac1860>]"
      ]
     },
     "execution_count": 79,
     "metadata": {},
     "output_type": "execute_result"
    },
    {
     "data": {
      "image/png": "[encoded data removed]",
      "text/plain": [
       "<Figure size 432x288 with 1 Axes>"
      ]
     },
     "metadata": {
      "needs_background": "light"
     },
     "output_type": "display_data"
    }
   ],
   "source": [
    "plt.plot(prediction)"
   ]
  },
  {
   "cell_type": "code",
   "execution_count": null,
   "metadata": {},
   "outputs": [],
   "source": []
  },
  {
   "cell_type": "code",
   "execution_count": null,
   "metadata": {},
   "outputs": [],
   "source": []
  },
  {
   "cell_type": "markdown",
   "metadata": {},
   "source": [
    "## Test Loader 만들어야됨"
   ]
  },
  {
   "cell_type": "code",
   "execution_count": 76,
   "metadata": {},
   "outputs": [
    {
     "ename": "TypeError",
     "evalue": "new(): invalid data type 'str'",
     "output_type": "error",
     "traceback": [
      "\u001b[1;31m---------------------------------------------------------------------------\u001b[0m",
      "\u001b[1;31mTypeError\u001b[0m                                 Traceback (most recent call last)",
      "\u001b[1;32m<ipython-input-76-3c4e39a8c9f5>\u001b[0m in \u001b[0;36m<module>\u001b[1;34m\u001b[0m\n\u001b[0;32m      1\u001b[0m \u001b[0mPrediction\u001b[0m\u001b[1;33m=\u001b[0m\u001b[1;33m[\u001b[0m\u001b[1;33m]\u001b[0m\u001b[1;33m\u001b[0m\u001b[1;33m\u001b[0m\u001b[0m\n\u001b[0;32m      2\u001b[0m \u001b[1;32mfor\u001b[0m \u001b[0mi\u001b[0m \u001b[1;32min\u001b[0m \u001b[0mx_test\u001b[0m\u001b[1;33m:\u001b[0m\u001b[1;33m\u001b[0m\u001b[1;33m\u001b[0m\u001b[0m\n\u001b[1;32m----> 3\u001b[1;33m     \u001b[0mprediction\u001b[0m\u001b[1;33m=\u001b[0m\u001b[0mhaha_net\u001b[0m\u001b[1;33m(\u001b[0m\u001b[0mtorch\u001b[0m\u001b[1;33m.\u001b[0m\u001b[0mFloatTensor\u001b[0m\u001b[1;33m(\u001b[0m\u001b[0mi\u001b[0m\u001b[1;33m)\u001b[0m\u001b[1;33m.\u001b[0m\u001b[0mview\u001b[0m\u001b[1;33m(\u001b[0m\u001b[1;36m5\u001b[0m\u001b[1;33m,\u001b[0m\u001b[1;33m-\u001b[0m\u001b[1;36m1\u001b[0m\u001b[1;33m,\u001b[0m\u001b[1;36m4\u001b[0m\u001b[1;33m)\u001b[0m\u001b[1;33m)\u001b[0m\u001b[1;33m\u001b[0m\u001b[1;33m\u001b[0m\u001b[0m\n\u001b[0m\u001b[0;32m      4\u001b[0m     \u001b[0mPrediction\u001b[0m\u001b[1;33m.\u001b[0m\u001b[0mappend\u001b[0m\u001b[1;33m(\u001b[0m\u001b[0mprediction\u001b[0m\u001b[1;33m.\u001b[0m\u001b[0mview\u001b[0m\u001b[1;33m(\u001b[0m\u001b[1;33m-\u001b[0m\u001b[1;36m1\u001b[0m\u001b[1;33m)\u001b[0m\u001b[1;33m.\u001b[0m\u001b[0mdetach\u001b[0m\u001b[1;33m(\u001b[0m\u001b[1;33m)\u001b[0m\u001b[1;33m.\u001b[0m\u001b[0mnumpy\u001b[0m\u001b[1;33m(\u001b[0m\u001b[1;33m)\u001b[0m\u001b[1;33m[\u001b[0m\u001b[1;33m-\u001b[0m\u001b[1;36m1\u001b[0m\u001b[1;33m]\u001b[0m\u001b[1;33m)\u001b[0m  \u001b[1;31m#many to many 라 마지막 종가만 추가\u001b[0m\u001b[1;33m\u001b[0m\u001b[1;33m\u001b[0m\u001b[0m\n",
      "\u001b[1;31mTypeError\u001b[0m: new(): invalid data type 'str'"
     ]
    }
   ],
   "source": [
    "Prediction=[]\n",
    "for i in x_test:\n",
    "    prediction=haha_net(torch.FloatTensor(i).view(5,-1,4))\n",
    "    Prediction.append(prediction.view(-1).detach().numpy()[-1])  #many to many 라 마지막 종가만 추가"
   ]
  },
  {
   "cell_type": "code",
   "execution_count": 68,
   "metadata": {
    "collapsed": true
   },
   "outputs": [
    {
     "name": "stdout",
     "output_type": "stream",
     "text": [
      "(921,)\n"
     ]
    }
   ],
   "source": [
    "Prediction=np.array(Prediction).reshape(-1)\n",
    "print(Prediction.shape)"
   ]
  },
  {
   "cell_type": "code",
   "execution_count": 69,
   "metadata": {},
   "outputs": [],
   "source": [
    "prediction=test_scaler.inverse_transform(Prediction.reshape(-1,1))\n",
    "prediction=pd.DataFrame(prediction,columns={'prediction'})"
   ]
  },
  {
   "cell_type": "code",
   "execution_count": 70,
   "metadata": {
    "scrolled": true
   },
   "outputs": [],
   "source": [
    "comparing=pd.concat([prediction,target.iloc[-y_test.shape[0]:].reset_index(drop=True)],axis=1)\n",
    "comparing.index = pd.to_datetime(dates.iloc[-y_test.shape[0]:])"
   ]
  },
  {
   "cell_type": "code",
   "execution_count": 71,
   "metadata": {
    "scrolled": true
   },
   "outputs": [
    {
     "data": {
      "text/plain": [
       "<matplotlib.axes._subplots.AxesSubplot at 0x254075bee48>"
      ]
     },
     "execution_count": 71,
     "metadata": {},
     "output_type": "execute_result"
    },
    {
     "data": {
      "image/png": "[encoded data removed]",
      "text/plain": [
       "<Figure size 432x288 with 1 Axes>"
      ]
     },
     "metadata": {
      "needs_background": "light"
     },
     "output_type": "display_data"
    }
   ],
   "source": [
    "import matplotlib.pyplot as plt\n",
    "import seaborn as sns\n",
    "\n",
    "comparing[['prediction','close']].plot()"
   ]
  },
  {
   "cell_type": "code",
   "execution_count": 72,
   "metadata": {},
   "outputs": [
    {
     "data": {
      "text/plain": [
       "<matplotlib.axes._subplots.AxesSubplot at 0x2540770bd68>"
      ]
     },
     "execution_count": 72,
     "metadata": {},
     "output_type": "execute_result"
    },
    {
     "data": {
      "image/png": "[encoded data removed]",
      "text/plain": [
       "<Figure size 432x288 with 1 Axes>"
      ]
     },
     "metadata": {
      "needs_background": "light"
     },
     "output_type": "display_data"
    }
   ],
   "source": [
    "comparing['prediction'].plot()"
   ]
  },
  {
   "cell_type": "code",
   "execution_count": null,
   "metadata": {},
   "outputs": [],
   "source": []
  }
 ],
 "metadata": {
  "kernelspec": {
   "display_name": "Python 3",
   "language": "python",
   "name": "python3"
  },
  "language_info": {
   "codemirror_mode": {
    "name": "ipython",
    "version": 3
   },
   "file_extension": ".py",
   "mimetype": "text/x-python",
   "name": "python",
   "nbconvert_exporter": "python",
   "pygments_lexer": "ipython3",
   "version": "3.6.8"
  }
 },
 "nbformat": 4,
 "nbformat_minor": 2
}
