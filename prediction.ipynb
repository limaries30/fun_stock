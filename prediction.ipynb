{
 "cells": [
  {
   "cell_type": "code",
   "execution_count": 122,
   "metadata": {},
   "outputs": [],
   "source": [
    "import pandas as pd\n",
    "import torch\n",
    "import torch.nn as nn\n",
    "from sklearn.preprocessing import StandardScaler\n",
    "import numpy as np\n",
    "import torch\n",
    "import torch.nn as nn\n",
    "import torch.optim as optim\n",
    "\n",
    "\n",
    "df=pd.read_csv('./data/051910.csv',index_col=0).reset_index(drop=True)\n",
    "# df=pd.read_csv('./data/215600.csv',index_col=0).reset_index(drop=True)\n",
    "code_name=pd.read_csv('./data/code_name.csv')\n",
    "train=df[['open','high','low','volume']]\n",
    "target=df[['close']]"
   ]
  },
  {
   "cell_type": "code",
   "execution_count": 123,
   "metadata": {},
   "outputs": [],
   "source": [
    "def preprocessing(data):\n",
    "    \n",
    "    scaler= StandardScaler()\n",
    "    data=scaler.fit_transform(data)\n",
    "    data=np.array(data)\n",
    "    \n",
    "    return data,scaler\n",
    "    \n",
    "def split_data(data):\n",
    "    \n",
    "    prop=len(data)//5\n",
    "    val=data[:prop]\n",
    "    test=data[prop+1:2*prop]\n",
    "    train=data[2*prop:]\n",
    "    \n",
    "    return np.array(train),np.array(val),np.array(test)\n",
    "\n",
    "def make_seq(data,window_size):\n",
    "    seq_data=[]\n",
    "    for i in range(data.shape[0]-window_size):\n",
    "        L=data[i:i+window_size]\n",
    "        seq_data.append(L)\n",
    "    return seq_data"
   ]
  },
  {
   "cell_type": "code",
   "execution_count": 124,
   "metadata": {},
   "outputs": [],
   "source": [
    "train_data_normalized,scaler_train = preprocessing(train.iloc[:-1])\n",
    "target_data_normalized ,scaler_test= preprocessing(target.iloc[1:])\n",
    "\n",
    "train_seq=make_seq(train_data_normalized,window_size=5)\n",
    "target_seq=make_seq(target_data_normalized,window_size=5)\n",
    "\n",
    "x_train,x_val,x_test=split_data(train_seq)\n",
    "y_train,y_val,y_test=split_data(target_seq)"
   ]
  },
  {
   "cell_type": "code",
   "execution_count": 149,
   "metadata": {},
   "outputs": [],
   "source": [
    "class stock_net(nn.Module):\n",
    "    def __init__(self, embedding_dim, hidden_dim):\n",
    "        \n",
    "        super(stock_net, self).__init__()\n",
    "        self.lstm = nn.LSTM(embedding_dim, hidden_dim)\n",
    "        self.h_o=nn.Linear(hidden_dim,1)\n",
    "        self.relu = nn.ReLU()\n",
    "        \n",
    "    def forward(self,x):\n",
    "        \n",
    "        x=self.lstm(x)\n",
    "        x=self.relu(self.h_o(x[0]))\n",
    "        \n",
    "        return x"
   ]
  },
  {
   "cell_type": "code",
   "execution_count": 150,
   "metadata": {},
   "outputs": [],
   "source": [
    "emb_dim=x_train.shape[2] # feature size"
   ]
  },
  {
   "cell_type": "code",
   "execution_count": 151,
   "metadata": {},
   "outputs": [],
   "source": [
    "haha_net=stock_net(emb_dim,10)\n",
    "criterion = nn.MSELoss()\n",
    "# Optimizer를 생성합니다.\n",
    "optimizer = optim.SGD(haha_net.parameters(), lr=0.01)"
   ]
  },
  {
   "cell_type": "code",
   "execution_count": 152,
   "metadata": {
    "scrolled": true
   },
   "outputs": [
    {
     "name": "stdout",
     "output_type": "stream",
     "text": [
      "0.7568060755729675\n",
      "0.6580135822296143\n",
      "0.11120356619358063\n",
      "0.0425124391913414\n",
      "0.309242308139801\n",
      "0.820602536201477\n",
      "2.060643434524536\n",
      "2.171931028366089\n",
      "0.010836118832230568\n",
      "0.06052194908261299\n",
      "0.005134772974997759\n",
      "0.01587410643696785\n",
      "0.010863103903830051\n",
      "0.0029578579124063253\n",
      "0.0003407425538171083\n",
      "0.08591717481613159\n",
      "0.004084575455635786\n",
      "0.013779815286397934\n",
      "0.00940052978694439\n",
      "0.012775103561580181\n",
      "0.0009160667541436851\n",
      "0.009807946160435677\n",
      "0.05979776009917259\n",
      "0.049679338932037354\n",
      "0.016012845560908318\n",
      "0.005062098614871502\n",
      "0.008639119565486908\n",
      "0.0016583845717832446\n"
     ]
    }
   ],
   "source": [
    "Loss=[]\n",
    "for i in range(x_train.shape[0]):\n",
    "\n",
    "    optimizer.zero_grad()\n",
    "    output=haha_net(torch.FloatTensor(x_train[i]).view(5,-1,4))\n",
    "    loss = criterion(output, torch.FloatTensor(y_train[i]))\n",
    "    loss.backward()\n",
    "    optimizer.step()  \n",
    "    if i%100==0:\n",
    "        Loss.append(loss.item())\n",
    "        print(loss.item())"
   ]
  },
  {
   "cell_type": "code",
   "execution_count": 153,
   "metadata": {},
   "outputs": [],
   "source": [
    "Prediction=[]\n",
    "for i in x_test:\n",
    "    prediction=haha_net(torch.FloatTensor(i).view(5,-1,4))\n",
    "    Prediction.append(prediction.view(-1).detach().numpy())"
   ]
  },
  {
   "cell_type": "code",
   "execution_count": 154,
   "metadata": {},
   "outputs": [],
   "source": [
    "Prediction=np.array(Prediction).reshape(-1)"
   ]
  },
  {
   "cell_type": "code",
   "execution_count": 155,
   "metadata": {},
   "outputs": [],
   "source": [
    "prediction=scaler_test.inverse_transform(Prediction.reshape(-1,1))\n",
    "real=scaler_test.inverse_transform(y_test.reshape(-1,1))"
   ]
  },
  {
   "cell_type": "code",
   "execution_count": 159,
   "metadata": {
    "scrolled": true
   },
   "outputs": [
    {
     "data": {
      "text/plain": [
       "[<matplotlib.lines.Line2D at 0x2e9efd5ea90>]"
      ]
     },
     "execution_count": 159,
     "metadata": {},
     "output_type": "execute_result"
    },
    {
     "data": {
      "image/png": "[encoded data removed]",
      "text/plain": [
       "<Figure size 432x288 with 1 Axes>"
      ]
     },
     "metadata": {
      "needs_background": "light"
     },
     "output_type": "display_data"
    }
   ],
   "source": [
    "import matplotlib.pyplot as plt\n",
    "\n",
    "plt.plot(prediction)\n",
    "plt.plot(real)"
   ]
  },
  {
   "cell_type": "code",
   "execution_count": 163,
   "metadata": {},
   "outputs": [
    {
     "data": {
      "text/plain": [
       "[<matplotlib.lines.Line2D at 0x2e9f30ae128>]"
      ]
     },
     "execution_count": 163,
     "metadata": {},
     "output_type": "execute_result"
    },
    {
     "data": {
      "image/png": "[encoded data removed]",
      "text/plain": [
       "<Figure size 432x288 with 1 Axes>"
      ]
     },
     "metadata": {
      "needs_background": "light"
     },
     "output_type": "display_data"
    }
   ],
   "source": [
    "plt.plot(target)"
   ]
  },
  {
   "cell_type": "code",
   "execution_count": null,
   "metadata": {},
   "outputs": [],
   "source": []
  }
 ],
 "metadata": {
  "kernelspec": {
   "display_name": "Python 3",
   "language": "python",
   "name": "python3"
  },
  "language_info": {
   "codemirror_mode": {
    "name": "ipython",
    "version": 3
   },
   "file_extension": ".py",
   "mimetype": "text/x-python",
   "name": "python",
   "nbconvert_exporter": "python",
   "pygments_lexer": "ipython3",
   "version": "3.6.8"
  }
 },
 "nbformat": 4,
 "nbformat_minor": 2
}
