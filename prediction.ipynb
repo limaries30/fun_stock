{
 "cells": [
  {
   "cell_type": "code",
   "execution_count": 13,
   "metadata": {},
   "outputs": [],
   "source": [
    "import pandas as pd\n",
    "import torch\n",
    "import torch.nn as nn\n",
    "from sklearn.preprocessing import MinMaxScaler\n",
    "import numpy as np\n",
    "import torch\n",
    "import torch.nn as nn\n",
    "import torch.optim as optim\n",
    "\n",
    "\n",
    "df=pd.read_csv('./data/051910.csv',index_col=0).reset_index(drop=True)\n",
    "code_name=pd.read_csv('./data/code_name.csv')\n",
    "train=df[['open','high','low','volume']]\n",
    "target=df[['close']]"
   ]
  },
  {
   "cell_type": "code",
   "execution_count": 102,
   "metadata": {},
   "outputs": [],
   "source": [
    "def preprocessing(data):\n",
    "    \n",
    "    scaler= MinMaxScaler(feature_range=(-1, 1))\n",
    "    data=scaler.fit_transform(data)\n",
    "    data=np.array(data)\n",
    "    \n",
    "    return data,scaler\n",
    "    \n",
    "def split_data(data):\n",
    "    \n",
    "    prop=len(data)//5\n",
    "    val=data[:prop]\n",
    "    test=data[prop+1:2*prop]\n",
    "    train=data[2*prop:]\n",
    "    \n",
    "    return np.array(train),np.array(val),np.array(test)\n",
    "\n",
    "def make_seq(data,window_size):\n",
    "    seq_data=[]\n",
    "    for i in range(data.shape[0]-window_size):\n",
    "        L=data[i:i+window_size]\n",
    "        seq_data.append(L)\n",
    "    return seq_data"
   ]
  },
  {
   "cell_type": "code",
   "execution_count": 103,
   "metadata": {},
   "outputs": [],
   "source": [
    "train_data_normalized,scaler_train = preprocessing(train.iloc[:-1])\n",
    "target_data_normalized ,scaler_test= preprocessing(target.iloc[1:])\n",
    "\n",
    "train_seq=make_seq(train_data_normalized,window_size=5)\n",
    "target_seq=make_seq(target_data_normalized,window_size=5)\n",
    "\n",
    "x_train,x_val,x_test=split_data(train_seq)\n",
    "y_train,y_val,y_test=split_data(target_seq)"
   ]
  },
  {
   "cell_type": "code",
   "execution_count": 105,
   "metadata": {},
   "outputs": [],
   "source": [
    "class stock_net(nn.Module):\n",
    "    def __init__(self, embedding_dim, hidden_dim):\n",
    "        \n",
    "        super(stock_net, self).__init__()\n",
    "        self.lstm = nn.LSTM(embedding_dim, hidden_dim)\n",
    "        self.h_o=nn.Linear(hidden_dim,1)\n",
    "        \n",
    "    def forward(self,x):\n",
    "        \n",
    "        x=self.lstm(x)\n",
    "        x=self.h_o(x[0])\n",
    "        \n",
    "        return x"
   ]
  },
  {
   "cell_type": "code",
   "execution_count": 106,
   "metadata": {},
   "outputs": [],
   "source": [
    "emb_dim=x_train.shape[2] # feature size"
   ]
  },
  {
   "cell_type": "code",
   "execution_count": 107,
   "metadata": {},
   "outputs": [],
   "source": [
    "haha_net=stock_net(emb_dim,5)\n",
    "criterion = nn.MSELoss()\n",
    "# Optimizer를 생성합니다.\n",
    "optimizer = optim.SGD(haha_net.parameters(), lr=0.01)"
   ]
  },
  {
   "cell_type": "code",
   "execution_count": 137,
   "metadata": {
    "scrolled": true
   },
   "outputs": [
    {
     "name": "stderr",
     "output_type": "stream",
     "text": [
      "C:\\Users\\limaries30\\.conda\\envs\\python3.6\\lib\\site-packages\\torch\\nn\\modules\\loss.py:443: UserWarning: Using a target size (torch.Size([5, 1])) that is different to the input size (torch.Size([1, 5, 1])). This will likely lead to incorrect results due to broadcasting. Please ensure they have the same size.\n",
      "  return F.mse_loss(input, target, reduction=self.reduction)\n"
     ]
    },
    {
     "name": "stdout",
     "output_type": "stream",
     "text": [
      "0.1970571130514145\n",
      "0.00036957551492378116\n",
      "0.005986717529594898\n",
      "0.00021220619964879006\n",
      "0.000710847438313067\n",
      "0.002851681550964713\n",
      "0.0007139982772059739\n",
      "0.0030405421275645494\n",
      "0.00234616850502789\n",
      "0.005613713525235653\n",
      "0.00019028462702408433\n",
      "0.0014991990756243467\n",
      "0.0005373482126742601\n",
      "0.0003728073788806796\n",
      "0.00013068904809188098\n",
      "0.0019770225044339895\n",
      "0.00016736453108023852\n",
      "0.0015549316303804517\n",
      "0.0007560825324617326\n",
      "0.0016163847176358104\n",
      "0.00040721980622038245\n",
      "0.0010818049777299166\n",
      "0.006845505908131599\n",
      "0.00458196084946394\n",
      "0.0020834608003497124\n",
      "0.0009247269481420517\n",
      "0.0002820793888531625\n",
      "0.00013590564776677638\n"
     ]
    }
   ],
   "source": [
    "Loss=[]\n",
    "for i in range(x_train.shape[0]):\n",
    "    optimizer.zero_grad()\n",
    "    output=haha_net(torch.FloatTensor(x_train[i]).view(-1,5,4))\n",
    "    loss = criterion(output, torch.FloatTensor(y_train[i]))\n",
    "    loss.backward()\n",
    "    optimizer.step()  \n",
    "    if i%100==0:\n",
    "        Loss.append(loss.item())\n",
    "        print(loss.item())"
   ]
  },
  {
   "cell_type": "code",
   "execution_count": 138,
   "metadata": {},
   "outputs": [
    {
     "data": {
      "text/plain": [
       "[<matplotlib.lines.Line2D at 0x1ba0e4d1160>]"
      ]
     },
     "execution_count": 138,
     "metadata": {},
     "output_type": "execute_result"
    },
    {
     "data": {
      "image/png": "[encoded data removed]",
      "text/plain": [
       "<Figure size 432x288 with 1 Axes>"
      ]
     },
     "metadata": {
      "needs_background": "light"
     },
     "output_type": "display_data"
    }
   ],
   "source": [
    "plt.plot(Loss)"
   ]
  },
  {
   "cell_type": "code",
   "execution_count": 133,
   "metadata": {},
   "outputs": [],
   "source": [
    "Prediction=[]\n",
    "for i in x_test:\n",
    "    prediction=haha_net(torch.FloatTensor(i).view(-1,5,4))\n",
    "    Prediction.append(prediction.view(-1).detach().numpy())"
   ]
  },
  {
   "cell_type": "code",
   "execution_count": 134,
   "metadata": {},
   "outputs": [],
   "source": [
    "Prediction=np.array(Prediction).reshape(-1)"
   ]
  },
  {
   "cell_type": "code",
   "execution_count": 135,
   "metadata": {},
   "outputs": [],
   "source": [
    "prediction=scaler_test.inverse_transform(Prediction.reshape(-1,1))\n",
    "real=scaler_test.inverse_transform(y_test.reshape(-1,1))"
   ]
  },
  {
   "cell_type": "code",
   "execution_count": 136,
   "metadata": {},
   "outputs": [
    {
     "data": {
      "text/plain": [
       "[<matplotlib.lines.Line2D at 0x1ba0e7d9048>]"
      ]
     },
     "execution_count": 136,
     "metadata": {},
     "output_type": "execute_result"
    },
    {
     "data": {
      "image/png": "[encoded data removed]",
      "text/plain": [
       "<Figure size 432x288 with 1 Axes>"
      ]
     },
     "metadata": {
      "needs_background": "light"
     },
     "output_type": "display_data"
    }
   ],
   "source": [
    "import matplotlib.pyplot as plt\n",
    "\n",
    "plt.plot(prediction)\n",
    "plt.plot(real)"
   ]
  },
  {
   "cell_type": "code",
   "execution_count": null,
   "metadata": {},
   "outputs": [],
   "source": []
  }
 ],
 "metadata": {
  "kernelspec": {
   "display_name": "Python 3",
   "language": "python",
   "name": "python3"
  },
  "language_info": {
   "codemirror_mode": {
    "name": "ipython",
    "version": 3
   },
   "file_extension": ".py",
   "mimetype": "text/x-python",
   "name": "python",
   "nbconvert_exporter": "python",
   "pygments_lexer": "ipython3",
   "version": "3.6.8"
  }
 },
 "nbformat": 4,
 "nbformat_minor": 2
}
