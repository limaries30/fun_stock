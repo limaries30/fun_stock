{
 "cells": [
  {
   "cell_type": "code",
   "execution_count": 75,
   "metadata": {},
   "outputs": [],
   "source": [
    "import pandas as pd\n",
    "import torch\n",
    "import torch.nn as nn\n",
    "from sklearn.preprocessing import MinMaxScaler\n",
    "import numpy as np\n",
    "import torch\n",
    "import torch.nn as nn\n",
    "import torch.optim as optim\n",
    "\n",
    "\n",
    "df=pd.read_csv('./data/051910.csv',index_col=0)\n",
    "code_name=pd.read_csv('./data/code_name.csv')\n",
    "train=df[['open','high','low','volume']]\n",
    "target=df[['close']]"
   ]
  },
  {
   "cell_type": "code",
   "execution_count": 76,
   "metadata": {},
   "outputs": [],
   "source": [
    "scaler = MinMaxScaler(feature_range=(-1, 1))\n",
    "train_data_normalized = scaler.fit_transform(train)\n",
    "train_data_normalized = np.array(train_data_normalized)\n",
    "\n",
    "test_data_normalized = scaler.fit_transform(target)\n",
    "test_data_normalized = np.array(test_data_normalized)[1:]"
   ]
  },
  {
   "cell_type": "code",
   "execution_count": 77,
   "metadata": {},
   "outputs": [],
   "source": [
    "seq_data=[]\n",
    "target_data=[]\n",
    "window_size=7\n",
    "n_ins=train_data_normalized.shape[0]//window_size\n",
    "for i in range(train_data_normalized.shape[0]-window_size):\n",
    "    L=train_data_normalized[i:i+window_size]\n",
    "    L_t=test_data_normalized[i:i+window_size]\n",
    "    seq_data.append(L)\n",
    "    target_data.append(L_t)"
   ]
  },
  {
   "cell_type": "code",
   "execution_count": 78,
   "metadata": {},
   "outputs": [],
   "source": [
    "class stock_net(nn.Module):\n",
    "    def __init__(self, embedding_dim, hidden_dim):\n",
    "        \n",
    "        super(stock_net, self).__init__()\n",
    "        self.lstm = nn.LSTM(embedding_dim, hidden_dim)\n",
    "        self.h_o=nn.Linear(hidden_dim,1)\n",
    "        \n",
    "    def forward(self,x):\n",
    "        \n",
    "        x=self.lstm(x)\n",
    "        x=self.h_o(x[0])\n",
    "        \n",
    "        return x"
   ]
  },
  {
   "cell_type": "code",
   "execution_count": 79,
   "metadata": {},
   "outputs": [],
   "source": [
    "seq_data=np.array(seq_data)\n",
    "target_data=np.array(target_data)\n",
    "emb_dim=seq_data.shape[2] # feature size"
   ]
  },
  {
   "cell_type": "code",
   "execution_count": 80,
   "metadata": {},
   "outputs": [],
   "source": [
    "haha_net=stock_net(emb_dim,5)\n",
    "criterion = nn.MSELoss()\n",
    "# Optimizer를 생성합니다.\n",
    "optimizer = optim.SGD(haha_net.parameters(), lr=0.01)"
   ]
  },
  {
   "cell_type": "code",
   "execution_count": 85,
   "metadata": {},
   "outputs": [],
   "source": [
    "Loss=[]\n",
    "for i in range(seq_data.shape[0]):\n",
    "    optimizer.zero_grad()\n",
    "    output=haha_net(torch.FloatTensor(seq_data[i]).view(1,7,4))\n",
    "    loss = criterion(output, torch.FloatTensor(target_data[i]))\n",
    "    loss.backward()\n",
    "    optimizer.step()  \n",
    "    if i%100==0:\n",
    "        Loss.append(loss)"
   ]
  },
  {
   "cell_type": "code",
   "execution_count": 87,
   "metadata": {},
   "outputs": [
    {
     "data": {
      "text/plain": [
       "[<matplotlib.lines.Line2D at 0x2143fc352b0>]"
      ]
     },
     "execution_count": 87,
     "metadata": {},
     "output_type": "execute_result"
    },
    {
     "data": {
      "image/png": "[encoded data removed]",
      "text/plain": [
       "<Figure size 432x288 with 1 Axes>"
      ]
     },
     "metadata": {
      "needs_background": "light"
     },
     "output_type": "display_data"
    }
   ],
   "source": [
    "import matplotlib.pyplot as plt\n",
    "\n",
    "plt.plot(Loss)"
   ]
  },
  {
   "cell_type": "code",
   "execution_count": null,
   "metadata": {},
   "outputs": [],
   "source": []
  }
 ],
 "metadata": {
  "kernelspec": {
   "display_name": "Python 3",
   "language": "python",
   "name": "python3"
  },
  "language_info": {
   "codemirror_mode": {
    "name": "ipython",
    "version": 3
   },
   "file_extension": ".py",
   "mimetype": "text/x-python",
   "name": "python",
   "nbconvert_exporter": "python",
   "pygments_lexer": "ipython3",
   "version": "3.6.8"
  }
 },
 "nbformat": 4,
 "nbformat_minor": 2
}
